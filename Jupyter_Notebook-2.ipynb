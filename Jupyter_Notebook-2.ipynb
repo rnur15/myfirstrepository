{
 "cells": [
  {
   "cell_type": "markdown",
   "metadata": {
    "tags": []
   },
   "source": [
    "# My Jupyter Notebook on IBM Watson Studio"
   ]
  },
  {
   "cell_type": "markdown",
   "metadata": {},
   "source": [
    "**RIZKY NURHIDAYAT**\n",
    "\n",
    "Junior Data Scientist"
   ]
  },
  {
   "cell_type": "markdown",
   "metadata": {},
   "source": [
    "_I am interested in data science because I love working with data_"
   ]
  },
  {
   "cell_type": "markdown",
   "metadata": {},
   "source": [
    "### The following code is to calculate the area of a triangle"
   ]
  },
  {
   "cell_type": "code",
   "execution_count": 7,
   "metadata": {},
   "outputs": [
    {
     "name": "stdin",
     "output_type": "stream",
     "text": [
      "Enter the first side of the triangle:  7\n",
      "Enter the second side of the triangle:  15\n",
      "Enter the third side of the triangle:  9\n"
     ]
    },
    {
     "name": "stdout",
     "output_type": "stream",
     "text": [
      "Area of triangle:  20.69269194667528\n"
     ]
    }
   ],
   "source": [
    "# Asking for inputs\n",
    "a = float(input(\"Enter the first side of the triangle: \"))\n",
    "b = float(input(\"Enter the second side of the triangle: \"))\n",
    "c = float(input(\"Enter the third side of the triangle: \"))\n",
    "\n",
    "# Finding the semi-perimeter\n",
    "s = (a + b + c) / 2\n",
    "\n",
    "# Calculating area of triangle\n",
    "area = (s * (s - a) * (s - b) * (s - c)) ** 0.5\n",
    "\n",
    "# Displaying output\n",
    "print(\"Area of triangle: \", area)"
   ]
  },
  {
   "cell_type": "markdown",
   "metadata": {},
   "source": [
    "___\n",
    "\n",
    "[Add me](www.linkedin.com/in/rizky-nurhidayat)\n",
    "\n",
    "<script src=\"https://platform.linkedin.com/badges/js/profile.js\" async defer type=\"text/javascript\"></script>\n",
    "<div class=\"badge-base LI-profile-badge\" data-locale=\"en_US\" data-size=\"medium\" data-theme=\"light\" data-type=\"VERTICAL\" data-vanity=\"rizky-nurhidayat\" data-version=\"v1\"><a class=\"badge-base__link LI-simple-link\" href=\"https://id.linkedin.com/in/rizky-nurhidayat?trk=profile-badge\">Rizky Nurhidayat</a></div>"
   ]
  },
  {
   "cell_type": "markdown",
   "metadata": {},
   "source": [
    "* August, 2022"
   ]
  },
  {
   "cell_type": "markdown",
   "metadata": {},
   "source": [
    "<left>\n",
    "    <img src=\"https://s3-api.us-geo.objectstorage.softlayer.net/cf-courses-data/CognitiveClass/Logos/organization_logo/organization_logo.png\" width=\"300\" alt=\"cognitiveclass.ai logo\"  />\n",
    "</left>"
   ]
  }
 ],
 "metadata": {
  "kernelspec": {
   "display_name": "Python",
   "language": "python",
   "name": "conda-env-python-py"
  },
  "language_info": {
   "codemirror_mode": {
    "name": "ipython",
    "version": 3
   },
   "file_extension": ".py",
   "mimetype": "text/x-python",
   "name": "python",
   "nbconvert_exporter": "python",
   "pygments_lexer": "ipython3",
   "version": "3.7.12"
  }
 },
 "nbformat": 4,
 "nbformat_minor": 4
}
